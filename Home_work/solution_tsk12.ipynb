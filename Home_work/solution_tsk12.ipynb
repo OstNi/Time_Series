{
 "cells": [
  {
   "cell_type": "code",
   "execution_count": 2,
   "id": "initial_id",
   "metadata": {},
   "outputs": [],
   "source": [
    "import pandas as pd\n",
    "import matplotlib.pyplot as plt\n",
    "import torch"
   ]
  },
  {
   "cell_type": "code",
   "execution_count": 26,
   "id": "746970a3-32d4-407e-be25-bd8980d282c5",
   "metadata": {
    "ExecuteTime": {
     "end_time": "2023-12-21T17:18:11.201267Z",
     "start_time": "2023-12-21T17:18:11.181454Z"
    }
   },
   "outputs": [],
   "source": [
    "data = pd.read_csv(\"iiot_30min_norm.csv\")"
   ]
  },
  {
   "cell_type": "code",
   "execution_count": 5,
   "id": "231530b1-1b5b-4b2e-b653-5dd025fe314f",
   "metadata": {},
   "outputs": [
    {
     "data": {
      "text/html": [
       "<div>\n",
       "<style scoped>\n",
       "    .dataframe tbody tr th:only-of-type {\n",
       "        vertical-align: middle;\n",
       "    }\n",
       "\n",
       "    .dataframe tbody tr th {\n",
       "        vertical-align: top;\n",
       "    }\n",
       "\n",
       "    .dataframe thead th {\n",
       "        text-align: right;\n",
       "    }\n",
       "</style>\n",
       "<table border=\"1\" class=\"dataframe\">\n",
       "  <thead>\n",
       "    <tr style=\"text-align: right;\">\n",
       "      <th></th>\n",
       "      <th>FM1</th>\n",
       "      <th>PE1</th>\n",
       "      <th>PE2</th>\n",
       "      <th>PE3</th>\n",
       "      <th>PE4</th>\n",
       "      <th>TP1</th>\n",
       "      <th>TP2</th>\n",
       "      <th>EPOCH</th>\n",
       "    </tr>\n",
       "  </thead>\n",
       "  <tbody>\n",
       "    <tr>\n",
       "      <th>count</th>\n",
       "      <td>720.000000</td>\n",
       "      <td>720.000000</td>\n",
       "      <td>720.000000</td>\n",
       "      <td>720.000000</td>\n",
       "      <td>720.000000</td>\n",
       "      <td>720.000000</td>\n",
       "      <td>720.000000</td>\n",
       "      <td>7.200000e+02</td>\n",
       "    </tr>\n",
       "    <tr>\n",
       "      <th>mean</th>\n",
       "      <td>0.401405</td>\n",
       "      <td>0.935561</td>\n",
       "      <td>0.960597</td>\n",
       "      <td>0.907572</td>\n",
       "      <td>0.789629</td>\n",
       "      <td>0.375372</td>\n",
       "      <td>0.606721</td>\n",
       "      <td>1.594630e+09</td>\n",
       "    </tr>\n",
       "    <tr>\n",
       "      <th>std</th>\n",
       "      <td>0.113317</td>\n",
       "      <td>0.006896</td>\n",
       "      <td>0.038904</td>\n",
       "      <td>0.042093</td>\n",
       "      <td>0.051314</td>\n",
       "      <td>0.217120</td>\n",
       "      <td>0.138403</td>\n",
       "      <td>3.743825e+05</td>\n",
       "    </tr>\n",
       "    <tr>\n",
       "      <th>min</th>\n",
       "      <td>0.000000</td>\n",
       "      <td>0.922572</td>\n",
       "      <td>0.277070</td>\n",
       "      <td>0.023603</td>\n",
       "      <td>0.000000</td>\n",
       "      <td>0.000000</td>\n",
       "      <td>0.000000</td>\n",
       "      <td>1.593983e+09</td>\n",
       "    </tr>\n",
       "    <tr>\n",
       "      <th>25%</th>\n",
       "      <td>0.314962</td>\n",
       "      <td>0.931487</td>\n",
       "      <td>0.959694</td>\n",
       "      <td>0.905535</td>\n",
       "      <td>0.781885</td>\n",
       "      <td>0.201964</td>\n",
       "      <td>0.512354</td>\n",
       "      <td>1.594306e+09</td>\n",
       "    </tr>\n",
       "    <tr>\n",
       "      <th>50%</th>\n",
       "      <td>0.385196</td>\n",
       "      <td>0.934538</td>\n",
       "      <td>0.963252</td>\n",
       "      <td>0.910945</td>\n",
       "      <td>0.789128</td>\n",
       "      <td>0.343614</td>\n",
       "      <td>0.599224</td>\n",
       "      <td>1.594630e+09</td>\n",
       "    </tr>\n",
       "    <tr>\n",
       "      <th>75%</th>\n",
       "      <td>0.455849</td>\n",
       "      <td>0.938069</td>\n",
       "      <td>0.966236</td>\n",
       "      <td>0.917138</td>\n",
       "      <td>0.811603</td>\n",
       "      <td>0.511152</td>\n",
       "      <td>0.714562</td>\n",
       "      <td>1.594953e+09</td>\n",
       "    </tr>\n",
       "    <tr>\n",
       "      <th>max</th>\n",
       "      <td>1.000000</td>\n",
       "      <td>0.974454</td>\n",
       "      <td>1.000000</td>\n",
       "      <td>0.944446</td>\n",
       "      <td>0.840141</td>\n",
       "      <td>1.000000</td>\n",
       "      <td>1.000000</td>\n",
       "      <td>1.595277e+09</td>\n",
       "    </tr>\n",
       "  </tbody>\n",
       "</table>\n",
       "</div>"
      ],
      "text/plain": [
       "              FM1         PE1         PE2         PE3         PE4         TP1  \\\n",
       "count  720.000000  720.000000  720.000000  720.000000  720.000000  720.000000   \n",
       "mean     0.401405    0.935561    0.960597    0.907572    0.789629    0.375372   \n",
       "std      0.113317    0.006896    0.038904    0.042093    0.051314    0.217120   \n",
       "min      0.000000    0.922572    0.277070    0.023603    0.000000    0.000000   \n",
       "25%      0.314962    0.931487    0.959694    0.905535    0.781885    0.201964   \n",
       "50%      0.385196    0.934538    0.963252    0.910945    0.789128    0.343614   \n",
       "75%      0.455849    0.938069    0.966236    0.917138    0.811603    0.511152   \n",
       "max      1.000000    0.974454    1.000000    0.944446    0.840141    1.000000   \n",
       "\n",
       "              TP2         EPOCH  \n",
       "count  720.000000  7.200000e+02  \n",
       "mean     0.606721  1.594630e+09  \n",
       "std      0.138403  3.743825e+05  \n",
       "min      0.000000  1.593983e+09  \n",
       "25%      0.512354  1.594306e+09  \n",
       "50%      0.599224  1.594630e+09  \n",
       "75%      0.714562  1.594953e+09  \n",
       "max      1.000000  1.595277e+09  "
      ]
     },
     "execution_count": 5,
     "metadata": {},
     "output_type": "execute_result"
    }
   ],
   "source": [
    "data.describe()"
   ]
  },
  {
   "cell_type": "code",
   "execution_count": 6,
   "id": "33961116-f0a7-48dc-99b9-592f7adfa861",
   "metadata": {},
   "outputs": [],
   "source": [
    "def data_split(ts, param=\"1\", train_percentage=0.67):\n",
    "    timeseries = ts[ts.columns[int(param)]].values.astype('float32')\n",
    "    train_size = int(len(timeseries) * train_percentage)\n",
    "    train, test = timeseries[:train_size], timeseries[train_size:]\n",
    "    return train, test, timeseries"
   ]
  },
  {
   "cell_type": "code",
   "execution_count": 8,
   "id": "b382146a-eb6e-491c-b931-b333616e03bf",
   "metadata": {},
   "outputs": [],
   "source": [
    "train, test, total = data_split(data)"
   ]
  },
  {
   "cell_type": "code",
   "execution_count": 9,
   "id": "78be0f08-8d97-44a7-812d-cf4d14698cc9",
   "metadata": {},
   "outputs": [],
   "source": [
    "import torch\n",
    "\n",
    "def create_dataset(dataset, lookback):\n",
    "    X, y = [], []\n",
    "    for i in range(len(dataset)-lookback):\n",
    "        feature = dataset[i:i+lookback]\n",
    "        target = dataset[i+1:i+lookback+1]\n",
    "        X.append(feature)\n",
    "        y.append(target)\n",
    "    return torch.tensor(X), torch.tensor(y)"
   ]
  },
  {
   "cell_type": "code",
   "execution_count": 10,
   "id": "120669fc-66d7-4946-87f0-1990f5c23be3",
   "metadata": {},
   "outputs": [
    {
     "name": "stderr",
     "output_type": "stream",
     "text": [
      "/var/folders/62/y6pdrbb503l9t095f2_2wsbm0000gn/T/ipykernel_7792/1294061900.py:16: UserWarning: Creating a tensor from a list of numpy.ndarrays is extremely slow. Please consider converting the list to a single numpy.ndarray with numpy.array() before converting to a tensor. (Triggered internally at /Users/runner/work/pytorch/pytorch/pytorch/torch/csrc/utils/tensor_new.cpp:264.)\n",
      "  return torch.tensor(X), torch.tensor(y)\n"
     ]
    }
   ],
   "source": [
    "lookback = 1\n",
    "X_train, y_train = create_dataset(train, lookback=lookback)\n",
    "X_test, y_test = create_dataset(test, lookback=lookback)"
   ]
  },
  {
   "cell_type": "code",
   "execution_count": 11,
   "id": "a678407f-cd56-4721-99ea-f6c3c307cb85",
   "metadata": {},
   "outputs": [],
   "source": [
    "import torch.nn as nn\n",
    " \n",
    "class AirModel(nn.Module):\n",
    "    def __init__(self):\n",
    "        super().__init__()\n",
    "        self.lstm = nn.LSTM(input_size=1, hidden_size=50, num_layers=1, batch_first=True)\n",
    "        self.linear = nn.Linear(50, 1)\n",
    "    def forward(self, x):\n",
    "        x, _ = self.lstm(x)\n",
    "        x = self.linear(x)\n",
    "        return x"
   ]
  },
  {
   "cell_type": "code",
   "execution_count": 12,
   "id": "ffb77a8b-988c-4752-a476-0a0fc24a4465",
   "metadata": {},
   "outputs": [],
   "source": [
    "import numpy as np\n",
    "import torch.optim as optim\n",
    "import torch.utils.data as torch_data\n",
    " \n",
    "model = AirModel()\n",
    "optimizer = optim.Adam(model.parameters())\n",
    "loss_fn = nn.MSELoss()\n",
    "loader = torch_data.DataLoader(torch_data.TensorDataset(X_train, y_train), shuffle=True, batch_size=8)\n",
    "\n",
    "EPOCHS = 20"
   ]
  },
  {
   "cell_type": "code",
   "execution_count": 13,
   "id": "26c73134-2b77-482b-af58-18831fc29ff7",
   "metadata": {},
   "outputs": [],
   "source": [
    "def train_model(model, X_train, X_test, y_train, y_test, n_epochs):\n",
    "    y_pred_train = None\n",
    "    y_pred_test = None\n",
    "\n",
    "    for epoch in range(1, n_epochs + 1):\n",
    "        model.train()\n",
    "        for X_batch, y_batch in loader:\n",
    "            y_pred = model(X_batch)\n",
    "            loss = loss_fn(y_pred, y_batch)\n",
    "            optimizer.zero_grad()\n",
    "            loss.backward()\n",
    "            optimizer.step()\n",
    "        if epoch % 10 != 0 and epoch > 1:\n",
    "            continue\n",
    "        model.eval()\n",
    "        with torch.no_grad():\n",
    "            y_pred = model(X_train)\n",
    "            y_pred_train = y_pred\n",
    "            train_rmse = np.sqrt(loss_fn(y_pred, y_train))\n",
    "            y_pred = model(X_test)\n",
    "            y_pred_test = y_pred\n",
    "            test_rmse = np.sqrt(loss_fn(y_pred, y_test))\n",
    "        print(\"Epoch %d: train RMSE %.4f, test RMSE %.4f\" % (epoch, train_rmse, test_rmse))\n",
    "    return y_pred_train, y_pred_test, model"
   ]
  },
  {
   "cell_type": "code",
   "execution_count": 14,
   "id": "45378e60-7944-46b0-a4ca-8ec606773e8b",
   "metadata": {},
   "outputs": [
    {
     "name": "stdout",
     "output_type": "stream",
     "text": [
      "Epoch 1: train RMSE 0.1041, test RMSE 0.1327\n",
      "Epoch 10: train RMSE 0.0781, test RMSE 0.0845\n",
      "Epoch 20: train RMSE 0.0486, test RMSE 0.0434\n"
     ]
    }
   ],
   "source": [
    "y_pred_train, y_pred_test, model = train_model(model, X_train, X_test, y_train, y_test, EPOCHS)"
   ]
  },
  {
   "cell_type": "code",
   "execution_count": 15,
   "id": "258a9bd0-eecf-468b-977d-3dd28136275a",
   "metadata": {},
   "outputs": [],
   "source": [
    "import numpy as np\n",
    "from sklearn.metrics import mean_absolute_error, mean_squared_error, r2_score\n",
    "from math import sqrt\n",
    "\n",
    "def mean_absolute_percentage_error(y_true, y_pred):\n",
    "    return np.mean(np.abs((y_true - y_pred) / y_true)) * 100\n",
    "\n",
    "def validate(true, pred):\n",
    "    true = pd.DataFrame(true.flatten().numpy())[0]\n",
    "    pred = pd.DataFrame(pred.flatten().numpy())[0]\n",
    "    print(\"MSE:\", mean_squared_error(true, pred))\n",
    "    print(\"RMSE:\", sqrt(mean_squared_error(true, pred)))\n",
    "    print(\"MAE:\", mean_absolute_error(true, pred))\n",
    "    print(\"MAPE:\", mean_absolute_percentage_error(true, pred))\n",
    "    print(\"R2:\", r2_score(true, pred))"
   ]
  },
  {
   "cell_type": "code",
   "execution_count": 16,
   "id": "a3451061-923d-4947-9f5c-2685cc55dd91",
   "metadata": {},
   "outputs": [],
   "source": [
    "def plot_train_n_pred(X_train, X_test, total, model):\n",
    "    with torch.no_grad():\n",
    "        train_plot = np.ones_like(total) * np.nan\n",
    "        y_pred = model(X_train)\n",
    "        y_pred = y_pred[:, -1]\n",
    "        train_size = len(X_train)\n",
    "        train_plot[lookback:train_size + 1] = model(X_train)[:, -1]\n",
    "        test_plot = np.ones_like(total) * np.nan\n",
    "        test_plot[train_size + lookback:len(total) - 1] = model(X_test)[:, -1]\n",
    "\n",
    "    plt.rcParams[\"figure.figsize\"] = [12, 7]\n",
    "    plt.plot(total, c='b')\n",
    "    plt.plot(train_plot, c='r')\n",
    "    plt.plot(test_plot, c='g')\n",
    "    plt.show()"
   ]
  },
  {
   "cell_type": "code",
   "execution_count": 22,
   "id": "fe86e74d-a60e-4261-b8cf-aae7ec9e1bbf",
   "metadata": {},
   "outputs": [
    {
     "name": "stdout",
     "output_type": "stream",
     "text": [
      "Метрики тренировочных данных\n",
      "MSE: 0.0023625095\n",
      "RMSE: 0.04860565287003245\n",
      "MAE: 0.017841814\n",
      "MAPE: inf\n",
      "R2: 0.80832511222878\n"
     ]
    }
   ],
   "source": [
    "y_pred_train = model(X_train)\n",
    "print(\"Метрики тренировочных данных\")\n",
    "validate(y_train,y_pred_train.detach())"
   ]
  },
  {
   "cell_type": "code",
   "execution_count": 24,
   "id": "87a988c8-0461-4300-8210-e34169f34f54",
   "metadata": {},
   "outputs": [
    {
     "name": "stdout",
     "output_type": "stream",
     "text": [
      "Метрики тестовых данных\n",
      "MSE: 0.0018876547\n",
      "RMSE: 0.04344714780994303\n",
      "MAE: 0.020372294\n",
      "MAPE: 5.854387208819389\n",
      "R2: 0.8221075716460928\n"
     ]
    }
   ],
   "source": [
    "y_pred_test = model(X_test)\n",
    "print(\"Метрики тестовых данных\")\n",
    "validate(y_test,y_pred_test.detach())"
   ]
  },
  {
   "cell_type": "code",
   "execution_count": 25,
   "id": "b5e7fb64-2894-4bbb-bd84-fc6a21565cfd",
   "metadata": {},
   "outputs": [
    {
     "data": {
      "image/png": "[encoded data removed]",
      "text/plain": [
       "<Figure size 1200x700 with 1 Axes>"
      ]
     },
     "metadata": {},
     "output_type": "display_data"
    }
   ],
   "source": [
    "plot_train_n_pred(X_train, X_test, total, model)"
   ]
  }
 ],
 "metadata": {
  "kernelspec": {
   "display_name": "Python 3 (ipykernel)",
   "language": "python",
   "name": "python3"
  },
  "language_info": {
   "codemirror_mode": {
    "name": "ipython",
    "version": 3
   },
   "file_extension": ".py",
   "mimetype": "text/x-python",
   "name": "python",
   "nbconvert_exporter": "python",
   "pygments_lexer": "ipython3",
   "version": "3.10.1"
  }
 },
 "nbformat": 4,
 "nbformat_minor": 5
}
